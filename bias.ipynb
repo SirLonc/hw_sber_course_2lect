{
  "nbformat": 4,
  "nbformat_minor": 0,
  "metadata": {
    "colab": {
      "provenance": []
    },
    "kernelspec": {
      "name": "python3",
      "display_name": "Python 3"
    },
    "language_info": {
      "name": "python"
    }
  },
  "cells": [
    {
      "cell_type": "code",
      "execution_count": 215,
      "metadata": {
        "id": "KVcONJpHYqJF"
      },
      "outputs": [],
      "source": [
        "import numpy as np\n",
        "import torch"
      ]
    },
    {
      "cell_type": "code",
      "source": [
        "N = 100\n",
        "D_in = 50\n",
        "\n",
        "dtype = torch.float\n",
        "device = torch.device(\"cpu\")"
      ],
      "metadata": {
        "id": "8j5ahfV4i9Ah"
      },
      "execution_count": 216,
      "outputs": []
    },
    {
      "cell_type": "code",
      "source": [
        "batch_size = 64\n",
        "input_size = 1\n",
        "hidden_size = 10\n",
        "output_size = 1"
      ],
      "metadata": {
        "id": "OLNeMJSjj3L-"
      },
      "execution_count": 424,
      "outputs": []
    },
    {
      "cell_type": "code",
      "source": [
        "w1 = torch.randn(input_size, hidden_size, device=device, dtype=dtype)\n",
        "w2 = torch.randn(hidden_size, output_size, device=device, dtype=dtype)"
      ],
      "metadata": {
        "id": "9myr1Ijjj85z"
      },
      "execution_count": 618,
      "outputs": []
    },
    {
      "cell_type": "code",
      "source": [
        "x = np.arange(-10, 10, 0.01).reshape(-1, 1)\n",
        "y = x**2 * np.sin(x).reshape(-1, 1)\n",
        "bias = np.full((2000,1), -3.9)\n"
      ],
      "metadata": {
        "id": "juMFQXDunjrY"
      },
      "execution_count": 619,
      "outputs": []
    },
    {
      "cell_type": "code",
      "source": [
        "x = torch.FloatTensor(x)\n",
        "y = torch.FloatTensor(y)\n",
        "bias = torch.FloatTensor(bias)"
      ],
      "metadata": {
        "id": "KH089v8Nnk78"
      },
      "execution_count": 620,
      "outputs": []
    },
    {
      "cell_type": "code",
      "source": [
        "\n",
        "learning_rate = 1e-6\n",
        "for t in range(5000):\n",
        "    #Forward pass:compute predicted y\n",
        "    h1 = x.mm(w1).add(bias)\n",
        "    h1_relu = h1.clamp(min=0.0)\n",
        "    y_pred = h1_relu.mm(w2)\n",
        "\n",
        "    # Compute and print loss\n",
        "    loss = (y_pred - y).pow(2).mean().item()\n",
        "    if t % 100 == 0:\n",
        "      print(t, loss)\n",
        "    s = 2 * (y_pred - y)\n",
        "\n",
        "    grad_w2 = h1_relu.T.mm(s)\n",
        "\n",
        "\n",
        "    d1_dypred = s.mm(w2.T)\n",
        "    d1_dypred[h1_relu == 0] = 0\n",
        "    grad_w1 = x.T.mm(d1_dypred)\n",
        "\n",
        "    # Update weights using gradient descent\n",
        "    w1 -= learning_rate * grad_w1\n",
        "    w2 -= learning_rate * grad_w2"
      ],
      "metadata": {
        "colab": {
          "base_uri": "https://localhost:8080/"
        },
        "id": "r762oBPlkCVA",
        "outputId": "68f50e48-b925-4d81-c5da-8b7c674f16dd"
      },
      "execution_count": 621,
      "outputs": [
        {
          "output_type": "stream",
          "name": "stdout",
          "text": [
            "0 658.828857421875\n",
            "100 590.5112915039062\n",
            "200 574.9006958007812\n",
            "300 566.1306762695312\n",
            "400 560.473388671875\n",
            "500 557.6998901367188\n",
            "600 558.323974609375\n",
            "700 571.5043334960938\n",
            "800 558.5146484375\n",
            "900 561.0437622070312\n",
            "1000 564.2889404296875\n",
            "1100 624.8442993164062\n",
            "1200 561.1094360351562\n",
            "1300 560.1534423828125\n",
            "1400 560.6368408203125\n",
            "1500 597.799560546875\n",
            "1600 561.5401611328125\n",
            "1700 561.6243896484375\n",
            "1800 561.1260375976562\n",
            "1900 612.1362915039062\n",
            "2000 560.7508544921875\n",
            "2100 560.985107421875\n",
            "2200 561.3558959960938\n",
            "2300 581.2811279296875\n",
            "2400 560.8035888671875\n",
            "2500 561.0460205078125\n",
            "2600 562.6309204101562\n",
            "2700 561.1272583007812\n",
            "2800 560.8365478515625\n",
            "2900 561.1321411132812\n",
            "3000 598.347412109375\n",
            "3100 560.7566528320312\n",
            "3200 560.86767578125\n",
            "3300 561.2127685546875\n",
            "3400 624.2870483398438\n",
            "3500 561.1531372070312\n",
            "3600 561.210205078125\n",
            "3700 561.19677734375\n",
            "3800 577.359619140625\n",
            "3900 560.4691772460938\n",
            "4000 560.6414794921875\n",
            "4100 562.3960571289062\n",
            "4200 562.1810302734375\n",
            "4300 560.833251953125\n",
            "4400 561.0618896484375\n",
            "4500 578.7866821289062\n",
            "4600 560.866943359375\n",
            "4700 560.6223754882812\n",
            "4800 561.1327514648438\n",
            "4900 626.2254638671875\n"
          ]
        }
      ]
    },
    {
      "cell_type": "code",
      "source": [
        "loss"
      ],
      "metadata": {
        "colab": {
          "base_uri": "https://localhost:8080/"
        },
        "id": "R88eMDqgntFw",
        "outputId": "163aaa97-ebd7-4c03-ca31-22fc3c02faa1"
      },
      "execution_count": 622,
      "outputs": [
        {
          "output_type": "execute_result",
          "data": {
            "text/plain": [
              "561.5399780273438"
            ]
          },
          "metadata": {},
          "execution_count": 622
        }
      ]
    },
    {
      "cell_type": "code",
      "source": [
        "import matplotlib.pyplot as plt\n",
        "plt.scatter(x, y)\n",
        "plt.scatter(x, y_pred)"
      ],
      "metadata": {
        "colab": {
          "base_uri": "https://localhost:8080/",
          "height": 282
        },
        "id": "Aw97Vza2ntuk",
        "outputId": "ebc27b74-1327-42cc-8ab0-8221d8047c4e"
      },
      "execution_count": 623,
      "outputs": [
        {
          "output_type": "execute_result",
          "data": {
            "text/plain": [
              "<matplotlib.collections.PathCollection at 0x7f6959d5d890>"
            ]
          },
          "metadata": {},
          "execution_count": 623
        },
        {
          "output_type": "display_data",
          "data": {
            "text/plain": [
              "<Figure size 432x288 with 1 Axes>"
            ],
            "image/png": "[encoded data removed]"
          },
          "metadata": {
            "needs_background": "light"
          }
        }
      ]
    },
    {
      "cell_type": "code",
      "source": [
        "from torch import nn\n",
        "class TwoLayerNet(nn.Module):\n",
        "    def __init__(self, input_size, hidden_size, output_size):\n",
        "        \"\"\"\n",
        "        TwoLayerNet наследуется от nn.Module и тем самым полчаем возможность\n",
        "        переопределять методы класса.\n",
        "        В конструктуре создаем слои (обучаемые веса) и другие нужные перменные/функции,\n",
        "        которые нужны для модели\n",
        "        \"\"\"\n",
        "        super(TwoLayerNet, self).__init__()\n",
        "        self.linear1 = torch.nn.Linear(input_size, hidden_size, bias=True)\n",
        "        self.linear2 = torch.nn.Linear(hidden_size, output_size, bias=True)\n",
        "\n",
        "    def forward(self, x):\n",
        "        \"\"\"\n",
        "        Метод forward отвечает за прямое распростронение модели, \n",
        "        поэтому данный метод нужно переопределять обязательно, \n",
        "        чтобы задать логику прямого распростронения. \n",
        "        Именно в этот момент начинает строится динамический граф\n",
        "        \"\"\"\n",
        "        h_relu = torch.relu(self.linear1(x))\n",
        "        y_pred = self.linear2(h_relu)\n",
        "        \n",
        "        return y_pred\n",
        "        "
      ],
      "metadata": {
        "id": "UV8yhDVwpVr3"
      },
      "execution_count": 624,
      "outputs": []
    },
    {
      "cell_type": "code",
      "source": [
        "batch_size = 64\n",
        "input_size = 1\n",
        "hidden_size = 10\n",
        "output_size = 1\n",
        "\n",
        "# x = torch.randn(batch_size, input_size, device=device, dtype=dtype)\n",
        "# y = torch.randn(batch_size, output_size, device=device, dtype=dtype)\n",
        "\n",
        "model = TwoLayerNet(input_size, hidden_size, output_size)\n",
        "\n",
        "loss_fn = torch.nn.MSELoss(reduction='mean')\n",
        "optimizer = torch.optim.SGD(model.parameters(), lr=1e-4)\n",
        "\n",
        "for t in range(50000):\n",
        "    y_pred = model(x)\n",
        "\n",
        "    loss = loss_fn(y_pred, y)\n",
        "    if t % 1000 == 0:\n",
        "        print(t, loss.item())\n",
        "\n",
        "    optimizer.zero_grad()\n",
        "    loss.backward()\n",
        "    optimizer.step()"
      ],
      "metadata": {
        "colab": {
          "base_uri": "https://localhost:8080/"
        },
        "id": "SAL0eX-SpgIK",
        "outputId": "bcd979ac-e301-424e-db41-a2686f67b515"
      },
      "execution_count": 477,
      "outputs": [
        {
          "output_type": "stream",
          "name": "stdout",
          "text": [
            "0 739.34619140625\n",
            "1000 639.2765502929688\n",
            "2000 635.7009887695312\n",
            "3000 631.6990966796875\n",
            "4000 627.0515747070312\n",
            "5000 621.5773315429688\n",
            "6000 614.98974609375\n",
            "7000 606.4849853515625\n",
            "8000 596.7946166992188\n",
            "9000 587.083251953125\n",
            "10000 578.2254028320312\n",
            "11000 570.4061889648438\n",
            "12000 565.0797729492188\n",
            "13000 561.6181640625\n",
            "14000 559.3751220703125\n",
            "15000 557.8626098632812\n",
            "16000 556.7739868164062\n",
            "17000 555.932373046875\n",
            "18000 555.2404174804688\n",
            "19000 554.6458740234375\n",
            "20000 554.12060546875\n",
            "21000 553.6503295898438\n",
            "22000 553.2249145507812\n",
            "23000 552.8364868164062\n",
            "24000 552.4765014648438\n",
            "25000 552.1354370117188\n",
            "26000 551.803466796875\n",
            "27000 551.47119140625\n",
            "28000 551.1259765625\n",
            "29000 550.7521362304688\n",
            "30000 550.3120727539062\n",
            "31000 549.6058349609375\n",
            "32000 548.6101684570312\n",
            "33000 548.0553588867188\n",
            "34000 547.498779296875\n",
            "35000 546.9303588867188\n",
            "36000 546.346435546875\n",
            "37000 545.74462890625\n",
            "38000 545.124755859375\n",
            "39000 544.4876708984375\n",
            "40000 543.8342895507812\n",
            "41000 543.166015625\n",
            "42000 542.4841918945312\n",
            "43000 541.79052734375\n",
            "44000 541.087158203125\n",
            "45000 540.3760375976562\n",
            "46000 539.6587524414062\n",
            "47000 538.9374389648438\n",
            "48000 538.2141723632812\n",
            "49000 537.4898681640625\n"
          ]
        }
      ]
    },
    {
      "cell_type": "code",
      "source": [
        "plt.scatter(x, y)\n",
        "plt.scatter(x, y_pred.detach().numpy())"
      ],
      "metadata": {
        "colab": {
          "base_uri": "https://localhost:8080/",
          "height": 282
        },
        "id": "RLJwS471pjuF",
        "outputId": "14efd10e-31df-48b9-e190-7a27bc5602b7"
      },
      "execution_count": 478,
      "outputs": [
        {
          "output_type": "execute_result",
          "data": {
            "text/plain": [
              "<matplotlib.collections.PathCollection at 0x7f695a0422d0>"
            ]
          },
          "metadata": {},
          "execution_count": 478
        },
        {
          "output_type": "display_data",
          "data": {
            "text/plain": [
              "<Figure size 432x288 with 1 Axes>"
            ],
            "image/png": "[encoded data removed]"
          },
          "metadata": {
            "needs_background": "light"
          }
        }
      ]
    },
    {
      "cell_type": "code",
      "source": [],
      "metadata": {
        "colab": {
          "base_uri": "https://localhost:8080/"
        },
        "id": "TCrg5c5ApnYT",
        "outputId": "b988c840-d1f3-4e3b-8bf9-5f7222627d5e"
      },
      "execution_count": null,
      "outputs": [
        {
          "output_type": "execute_result",
          "data": {
            "text/plain": [
              "tensor([[-18.7910],\n",
              "        [-18.7721],\n",
              "        [-18.7532],\n",
              "        ...,\n",
              "        [ 18.9502],\n",
              "        [ 18.9692],\n",
              "        [ 18.9883]])"
            ]
          },
          "metadata": {},
          "execution_count": 100
        }
      ]
    },
    {
      "cell_type": "code",
      "source": [],
      "metadata": {
        "id": "hZyuAFun28UE"
      },
      "execution_count": null,
      "outputs": []
    }
  ]
}